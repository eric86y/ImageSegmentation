{
 "cells": [
  {
   "cell_type": "code",
   "execution_count": 2,
   "metadata": {},
   "outputs": [],
   "source": [
    "from zipfile import ZipFile\n",
    "from huggingface_hub import snapshot_download"
   ]
  },
  {
   "cell_type": "code",
   "execution_count": null,
   "metadata": {},
   "outputs": [],
   "source": [
    "line_dataset = \"\"\n",
    "layout_dataset = \"\"\n",
    "\n",
    "line_data_path = snapshot_download(\n",
    "            repo_id=f\"{line_dataset}\",\n",
    "            repo_type=\"dataset\",\n",
    "            cache_dir=\"Datasets\")\n",
    "\n",
    "with ZipFile(f\"{line_data_path}/data.zip\", 'r') as zip:\n",
    "    zip.extractall(f\"{line_data_path}/Dataset\")\n",
    "\n",
    "\n",
    "layout_data_path = snapshot_download(\n",
    "            repo_id=f\"{layout_dataset}\",\n",
    "            repo_type=\"dataset\",\n",
    "            cache_dir=\"Datasets\")\n",
    "\n",
    "with ZipFile(f\"{layout_data_path}/data.zip\", 'r') as zip:\n",
    "    zip.extractall(f\"{layout_data_path}/Dataset\")"
   ]
  }
 ],
 "metadata": {
  "kernelspec": {
   "display_name": ".venv",
   "language": "python",
   "name": "python3"
  },
  "language_info": {
   "codemirror_mode": {
    "name": "ipython",
    "version": 3
   },
   "file_extension": ".py",
   "mimetype": "text/x-python",
   "name": "python",
   "nbconvert_exporter": "python",
   "pygments_lexer": "ipython3",
   "version": "3.11.9"
  }
 },
 "nbformat": 4,
 "nbformat_minor": 2
}
