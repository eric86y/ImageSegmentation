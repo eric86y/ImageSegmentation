{
 "cells": [
  {
   "cell_type": "code",
   "execution_count": 1,
   "metadata": {},
   "outputs": [
    {
     "name": "stderr",
     "output_type": "stream",
     "text": [
      "e:\\Github\\ImageSegmentation\\.venv\\Lib\\site-packages\\tqdm\\auto.py:21: TqdmWarning: IProgress not found. Please update jupyter and ipywidgets. See https://ipywidgets.readthedocs.io/en/stable/user_install.html\n",
      "  from .autonotebook import tqdm as notebook_tqdm\n"
     ]
    }
   ],
   "source": [
    "import os\n",
    "from glob import glob\n",
    "from zipfile import ZipFile\n",
    "from natsort import natsorted\n",
    "from Config import PERIG_CLASSES\n",
    "from huggingface_hub import snapshot_download\n",
    "from Source.Utils import create_dir, show_sample_pair\n",
    "from Source.Trainer import MultiSegmentationTrainer"
   ]
  },
  {
   "cell_type": "code",
   "execution_count": null,
   "metadata": {},
   "outputs": [
    {
     "name": "stderr",
     "output_type": "stream",
     "text": [
      "Fetching 3 files: 100%|██████████| 3/3 [00:00<?, ?it/s]\n"
     ]
    },
    {
     "name": "stdout",
     "output_type": "stream",
     "text": [
      "downloaded and extracted the dataset to: Datasets\\datasets--BDRC--LayoutSegmentation_Dataset\\snapshots\\88ed979b705f49beacf8acc1321c7e8ba138aa9a\n"
     ]
    }
   ],
   "source": [
    "layout_dataset = \"BDRC/LayoutSegmentation_Dataset\"\n",
    "\n",
    "dataset_path = snapshot_download(\n",
    "            repo_id=f\"{layout_dataset}\",\n",
    "            repo_type=\"dataset\",\n",
    "            cache_dir=\"Datasets\")\n",
    "\n",
    "with ZipFile(f\"{dataset_path}/data.zip\", 'r') as zip:\n",
    "    zip.extractall(f\"{dataset_path}\")\n",
    "\n",
    "print(f\"downloaded and extracted the dataset to: {dataset_path}\")"
   ]
  },
  {
   "cell_type": "code",
   "execution_count": 3,
   "metadata": {},
   "outputs": [
    {
     "name": "stdout",
     "output_type": "stream",
     "text": [
      "Training data => Images: 0, Masks: 0\n",
      "Validation data => Images: 0, Masks: 0\n",
      "Test data => Images: 0, Masks: 0\n"
     ]
    }
   ],
   "source": [
    "train_data = os.path.join(dataset_path, \"train\")\n",
    "val_data = os.path.join(dataset_path, \"val\")\n",
    "test_data = os.path.join(dataset_path, \"test\")\n",
    "\n",
    "train_x = natsorted(glob(f\"{train_data}/images/*.jpg\"))\n",
    "train_y = natsorted(glob(f\"{train_data}/masks/*.png\"))\n",
    "\n",
    "valid_x = natsorted(glob(f\"{val_data}/images/*.jpg\"))\n",
    "valid_y = natsorted(glob(f\"{val_data}/masks/*.png\"))\n",
    "\n",
    "test_x = natsorted(glob(f\"{test_data}/images/*.jpg\"))\n",
    "test_y = natsorted(glob(f\"{test_data}/masks/*.png\"))\n",
    "\n",
    "print(f\"Training data => Images: {len(train_x)}, Masks: {len(train_y)}\")\n",
    "print(f\"Validation data => Images: {len(valid_x)}, Masks: {len(valid_y)}\")\n",
    "print(f\"Test data => Images: {len(test_x)}, Masks: {len(test_y)}\")"
   ]
  },
  {
   "cell_type": "code",
   "execution_count": 4,
   "metadata": {},
   "outputs": [],
   "source": [
    "patch_size = 512\n",
    "batch_size = 32"
   ]
  },
  {
   "cell_type": "code",
   "execution_count": null,
   "metadata": {},
   "outputs": [
    {
     "name": "stdout",
     "output_type": "stream",
     "text": [
      "Initializing Mutliclass Segmentation trainer...\n"
     ]
    },
    {
     "name": "stderr",
     "output_type": "stream",
     "text": [
      "e:\\Github\\ImageSegmentation#\\Source\\Trainer.py:474: FutureWarning: You are using `torch.load` with `weights_only=False` (the current default value), which uses the default pickle module implicitly. It is possible to construct malicious pickle data which will execute arbitrary code during unpickling (See https://github.com/pytorch/pytorch/blob/main/SECURITY.md#untrusted-models for more details). In a future release, the default value for `weights_only` will be flipped to `True`. This limits the functions that could be executed during unpickling. Arbitrary objects will no longer be allowed to be loaded via this mode unless they are explicitly allowlisted by the user via `torch.serialization.add_safe_globals`. We recommend you start setting `weights_only=True` for any use case where you don't have full control of the loaded file. Please open an issue on GitHub for any issues related to this experimental feature.\n",
      "  checkpoint = torch.load(checkpoint_path)\n"
     ]
    }
   ],
   "source": [
    "output_dir = os.path.join(dataset_path, \"Output\")\n",
    "create_dir(output_dir)\n",
    "\n",
    "segmentation_trainer = MultiSegmentationTrainer(\n",
    "    train_x,\n",
    "    train_y,\n",
    "    valid_x,\n",
    "    valid_y,\n",
    "    test_x,\n",
    "    test_y,\n",
    "    image_width=patch_size,\n",
    "    image_height=patch_size,\n",
    "    batch_size=batch_size,\n",
    "    network=\"deeplab\",\n",
    "    output_path=output_dir,\n",
    "    classes=PERIG_CLASSES)"
   ]
  },
  {
   "cell_type": "code",
   "execution_count": null,
   "metadata": {},
   "outputs": [],
   "source": [
    "epochs = 12\n",
    "segmentation_trainer.train(epochs=epochs)"
   ]
  }
 ],
 "metadata": {
  "kernelspec": {
   "display_name": ".venv",
   "language": "python",
   "name": "python3"
  },
  "language_info": {
   "codemirror_mode": {
    "name": "ipython",
    "version": 3
   },
   "file_extension": ".py",
   "mimetype": "text/x-python",
   "name": "python",
   "nbconvert_exporter": "python",
   "pygments_lexer": "ipython3",
   "version": "3.11.9"
  }
 },
 "nbformat": 4,
 "nbformat_minor": 2
}
